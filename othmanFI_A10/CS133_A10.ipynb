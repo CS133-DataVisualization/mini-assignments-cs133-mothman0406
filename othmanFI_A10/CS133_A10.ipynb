{
  "cells": [
    {
      "cell_type": "markdown",
      "metadata": {
        "id": "-AqiLKPR3r6d"
      },
      "source": [
        "# Working with complicated dataset"
      ]
    },
    {
      "cell_type": "markdown",
      "source": [
        "Your name: Mohammad Othman"
      ],
      "metadata": {
        "id": "uZ0oeT3-S5iq"
      }
    },
    {
      "cell_type": "markdown",
      "metadata": {
        "id": "tio0jU9Y3r6h"
      },
      "source": [
        "### Question 1\n",
        "\n",
        "blast_results: https://raw.githubusercontent.com/csbfx/advpy122-data/master/blast_results.csv\n",
        "\n",
        "Read in the data from the csv file above. Skip all the comment lines, create a header for the dataframe based on the fields list in the comment line that starts with **# Fields:**. Drop the first column `query acc.ver`. Set the `subject acc.ver` as the index of the dataframe. The last column of the dataframe should be `publications`. Show the first five rows of the resulting dataframe."
      ]
    },
    {
      "cell_type": "code",
      "execution_count": 2,
      "metadata": {
        "id": "zkhws8KT3r6i",
        "colab": {
          "base_uri": "https://localhost:8080/"
        },
        "outputId": "409f4b5a-186c-4037-a026-1287f9862f2b"
      },
      "outputs": [
        {
          "output_type": "stream",
          "name": "stdout",
          "text": [
            "                 % identity  alignment length  mismatches  gap opens  \\\n",
            "subject acc.ver                                                        \n",
            "NP_904328.1         100.000               318           0          0   \n",
            "AGK29621.1           99.686               318           1          0   \n",
            "YP_220563.1          99.686               318           1          0   \n",
            "ACM24502.1           99.686               318           1          0   \n",
            "AHG32084.1           99.371               318           2          0   \n",
            "\n",
            "                 q. start  q. end  s. start  s. end  evalue  bit score  \\\n",
            "subject acc.ver                                                          \n",
            "NP_904328.1             1     318         1     318       0        629   \n",
            "AGK29621.1              1     318         1     318       0        629   \n",
            "YP_220563.1             1     318         1     318       0        627   \n",
            "ACM24502.1              1     318         1     318       0        627   \n",
            "AHG32084.1              1     318         1     318       0        627   \n",
            "\n",
            "                 % positives     bonds publications extra  \n",
            "subject acc.ver                                            \n",
            "NP_904328.1           100.00    1,487             9   NaN  \n",
            "AGK29621.1            100.00   17,947            47   NaN  \n",
            "YP_220563.1           100.00   12,106            13   NaN  \n",
            "ACM24502.1             99.69    2,319            41   NaN  \n",
            "AHG32084.1            100.00   18,964             3   NaN  \n"
          ]
        }
      ],
      "source": [
        "import pandas as pd\n",
        "\n",
        "# URL to the CSV file\n",
        "url = 'https://raw.githubusercontent.com/csbfx/advpy122-data/master/blast_results.csv'\n",
        "\n",
        "# Read the CSV file while skipping comment lines\n",
        "data = pd.read_csv(url, comment='#')\n",
        "\n",
        "# Define the columns based on the fields list in the comment line\n",
        "fields = ['query acc.ver', 'subject acc.ver', '% identity', 'alignment length', 'mismatches',\n",
        "          'gap opens', 'q. start', 'q. end', 's. start', 's. end', 'evalue', 'bit score',\n",
        "          '% positives', 'bonds', 'publications', 'extra']\n",
        "\n",
        "# Assign the correct headers to the DataFrame\n",
        "data.columns = fields\n",
        "\n",
        "# Drop the first column 'query acc.ver'\n",
        "data = data.drop(columns=['query acc.ver'])\n",
        "\n",
        "# Set 'subject acc.ver' as the index\n",
        "data.set_index('subject acc.ver', inplace=True)\n",
        "\n",
        "# Show the first 5 rows of the resulting DataFrame\n",
        "print(data.head())\n"
      ]
    },
    {
      "cell_type": "markdown",
      "metadata": {
        "id": "aHNeMncr3r6j"
      },
      "source": [
        "### Question 2\n",
        "What is the average number of publications?"
      ]
    },
    {
      "cell_type": "code",
      "execution_count": 3,
      "metadata": {
        "id": "Q1JK-hYw3r6j",
        "colab": {
          "base_uri": "https://localhost:8080/"
        },
        "outputId": "45067945-4ec6-40ac-f882-c62e6b88035f"
      },
      "outputs": [
        {
          "output_type": "stream",
          "name": "stdout",
          "text": [
            "The average number of publications is: 26.989690721649485\n"
          ]
        }
      ],
      "source": [
        "# Convert the 'publications' column to numeric values, handling any non-numeric entries\n",
        "data['publications'] = pd.to_numeric(data['publications'], errors='coerce')\n",
        "\n",
        "# Calculate the average number of publications\n",
        "average_publications = data['publications'].mean()\n",
        "\n",
        "# Output the result\n",
        "print(f\"The average number of publications is: {average_publications}\")\n"
      ]
    },
    {
      "cell_type": "markdown",
      "metadata": {
        "id": "r4gRR96y3r6k"
      },
      "source": [
        "### Question 3\n",
        "List the `subject acc.ver` that has over 15,000 bonds."
      ]
    },
    {
      "cell_type": "code",
      "execution_count": 4,
      "metadata": {
        "id": "pLKiddab3r6k",
        "colab": {
          "base_uri": "https://localhost:8080/"
        },
        "outputId": "4cdac1c9-2f68-4399-d1cb-a9f300de0dd0"
      },
      "outputs": [
        {
          "output_type": "stream",
          "name": "stdout",
          "text": [
            "Subjects with more than 15,000 bonds:\n",
            "Index([], dtype='object', name='subject acc.ver')\n"
          ]
        }
      ],
      "source": [
        "# Convert the 'bonds' column to numeric values, handling any non-numeric entries\n",
        "data['bonds'] = pd.to_numeric(data['bonds'], errors='coerce')\n",
        "\n",
        "# Filter the rows where 'bonds' is greater than 15,000\n",
        "filtered_data = data[data['bonds'] > 15000]\n",
        "\n",
        "# Display the 'subject acc.ver' of the filtered rows\n",
        "subject_acc_ver_over_15000_bonds = filtered_data.index\n",
        "\n",
        "# Output the result\n",
        "print(\"Subjects with more than 15,000 bonds:\")\n",
        "print(subject_acc_ver_over_15000_bonds)\n"
      ]
    },
    {
      "cell_type": "markdown",
      "metadata": {
        "id": "H56QTFYU3r6l"
      },
      "source": [
        "### Question 4\n",
        "Create a plot that shows the correlation between `% identity` and `% positives`."
      ]
    },
    {
      "cell_type": "code",
      "execution_count": 5,
      "metadata": {
        "id": "YD3IBzmG3r6l",
        "colab": {
          "base_uri": "https://localhost:8080/",
          "height": 564
        },
        "outputId": "8527efc9-919a-40f3-dc8a-9474af9d4337"
      },
      "outputs": [
        {
          "output_type": "display_data",
          "data": {
            "text/plain": [
              "<Figure size 800x600 with 1 Axes>"
            ],
            "image/png": "[encoded data removed]"
          },
          "metadata": {}
        }
      ],
      "source": [
        "import pandas as pd\n",
        "import matplotlib.pyplot as plt\n",
        "\n",
        "# URL to the CSV file\n",
        "url = 'https://raw.githubusercontent.com/csbfx/advpy122-data/master/blast_results.csv'\n",
        "\n",
        "# Read the CSV file while skipping comment lines\n",
        "data = pd.read_csv(url, comment='#')\n",
        "\n",
        "# Define the columns based on the fields list in the comment line\n",
        "fields = ['query acc.ver', 'subject acc.ver', '% identity', 'alignment length', 'mismatches',\n",
        "          'gap opens', 'q. start', 'q. end', 's. start', 's. end', 'evalue', 'bit score',\n",
        "          '% positives', 'bonds', 'publications', 'extra']\n",
        "\n",
        "# Assign the correct headers to the DataFrame\n",
        "data.columns = fields\n",
        "\n",
        "# Drop the first column 'query acc.ver'\n",
        "data = data.drop(columns=['query acc.ver'])\n",
        "\n",
        "# Set 'subject acc.ver' as the index\n",
        "data.set_index('subject acc.ver', inplace=True)\n",
        "\n",
        "# Convert the relevant columns to numeric values, handling any non-numeric entries\n",
        "data['% identity'] = pd.to_numeric(data['% identity'], errors='coerce')\n",
        "data['% positives'] = pd.to_numeric(data['% positives'], errors='coerce')\n",
        "\n",
        "# Plotting the correlation between % identity and % positives\n",
        "plt.figure(figsize=(8, 6))\n",
        "plt.scatter(data['% identity'], data['% positives'], alpha=0.5)\n",
        "plt.title('Correlation between % Identity and % Positives')\n",
        "plt.xlabel('% Identity')\n",
        "plt.ylabel('% Positives')\n",
        "plt.grid(True)\n",
        "plt.show()\n"
      ]
    },
    {
      "cell_type": "markdown",
      "metadata": {
        "id": "pEUJxhad3r6m"
      },
      "source": [
        "### Question  5\n",
        "Add a column `Protein source` to the dataframe from Question 1 based on the data in this csv file: https://raw.githubusercontent.com/csbfx/advpy122-data/master/protein_source.csv. Merge the data when the `subject acc.ver` from the dataframe equals to `Protein` in the csv file. Entries without a matching protein will have `NA` as `Protein source`."
      ]
    },
    {
      "cell_type": "code",
      "execution_count": 7,
      "metadata": {
        "id": "xzIwyECv3r6m",
        "colab": {
          "base_uri": "https://localhost:8080/"
        },
        "outputId": "4a90f880-0399-4d4a-e750-3d2942ee145a"
      },
      "outputs": [
        {
          "output_type": "stream",
          "name": "stdout",
          "text": [
            "     % identity  alignment length  mismatches  gap opens  q. start  q. end  \\\n",
            "0.0     100.000               318           0          0         1     318   \n",
            "NaN      99.686               318           1          0         1     318   \n",
            "1.0      99.686               318           1          0         1     318   \n",
            "NaN      99.686               318           1          0         1     318   \n",
            "NaN      99.371               318           2          0         1     318   \n",
            "\n",
            "     s. start  s. end  evalue  bit score  % positives     bonds publications  \\\n",
            "0.0         1     318       0        629       100.00    1,487             9   \n",
            "NaN         1     318       0        629       100.00   17,947            47   \n",
            "1.0         1     318       0        627       100.00   12,106            13   \n",
            "NaN         1     318       0        627        99.69    2,319            41   \n",
            "NaN         1     318       0        627       100.00   18,964             3   \n",
            "\n",
            "    extra_column      Protein Protein source  \n",
            "0.0          NaN  NP_904328.1         RefSeq  \n",
            "NaN          NaN   AGK29621.1            NaN  \n",
            "1.0          NaN  YP_220563.1        GenPept  \n",
            "NaN          NaN   ACM24502.1            NaN  \n",
            "NaN          NaN   AHG32084.1            NaN  \n"
          ]
        }
      ],
      "source": [
        "import pandas as pd\n",
        "\n",
        "# URLs for the two CSV files\n",
        "blast_results_url = 'https://raw.githubusercontent.com/csbfx/advpy122-data/master/blast_results.csv'\n",
        "protein_source_url = 'https://raw.githubusercontent.com/csbfx/advpy122-data/master/protein_source.csv'\n",
        "\n",
        "# Read the blast results CSV while skipping comment lines\n",
        "blast_data = pd.read_csv(blast_results_url, comment='#')\n",
        "\n",
        "# Define the correct number of columns based on the data (16 columns)\n",
        "fields = ['query acc.ver', 'subject acc.ver', '% identity', 'alignment length', 'mismatches',\n",
        "          'gap opens', 'q. start', 'q. end', 's. start', 's. end', 'evalue', 'bit score',\n",
        "          '% positives', 'bonds', 'publications', 'extra_column']\n",
        "\n",
        "# Assign the correct headers to the blast data\n",
        "blast_data.columns = fields\n",
        "\n",
        "# Drop the 'query acc.ver' column\n",
        "blast_data = blast_data.drop(columns=['query acc.ver'])\n",
        "\n",
        "# Set the 'subject acc.ver' as the index\n",
        "blast_data.set_index('subject acc.ver', inplace=True)\n",
        "\n",
        "# Read the protein source CSV\n",
        "protein_source_data = pd.read_csv(protein_source_url)\n",
        "\n",
        "# Merge the dataframes based on 'subject acc.ver' and 'Protein'\n",
        "merged_data = blast_data.merge(protein_source_data[['Protein', 'Source']], left_index=True, right_on='Protein', how='left')\n",
        "\n",
        "# Rename the 'Source' column to 'Protein source'\n",
        "merged_data.rename(columns={'Source': 'Protein source'}, inplace=True)\n",
        "\n",
        "# Show the first few rows of the resulting dataframe\n",
        "print(merged_data.head())\n"
      ]
    }
  ],
  "metadata": {
    "kernelspec": {
      "display_name": "Python 3",
      "language": "python",
      "name": "python3"
    },
    "language_info": {
      "codemirror_mode": {
        "name": "ipython",
        "version": 3
      },
      "file_extension": ".py",
      "mimetype": "text/x-python",
      "name": "python",
      "nbconvert_exporter": "python",
      "pygments_lexer": "ipython3",
      "version": "3.7.6"
    },
    "colab": {
      "provenance": []
    }
  },
  "nbformat": 4,
  "nbformat_minor": 0
}